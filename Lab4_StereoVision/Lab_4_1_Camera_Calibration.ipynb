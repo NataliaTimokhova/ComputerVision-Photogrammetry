{
 "cells": [
  {
   "cell_type": "code",
   "execution_count": 2,
   "id": "fbc7109b",
   "metadata": {},
   "outputs": [],
   "source": [
    "from pathlib import Path\n",
    "import numpy as np\n",
    "import cv2 as cv\n",
    "import pandas as pd\n",
    "import yaml\n",
    "import random, time"
   ]
  },
  {
   "cell_type": "code",
   "execution_count": 6,
   "id": "5d610878",
   "metadata": {},
   "outputs": [
    {
     "name": "stdout",
     "output_type": "stream",
     "text": [
      "cam0: /Users/natalia/Documents/LTU_Master/Computer_vision/Lab4/calibration/mav0/cam0\n",
      "cam1: /Users/natalia/Documents/LTU_Master/Computer_vision/Lab4/calibration/mav0/cam1\n",
      "target: /Users/natalia/Documents/LTU_Master/Computer_vision/Lab4/calibration/checkerboard_7x6.yaml\n"
     ]
    }
   ],
   "source": [
    "# Define paths\n",
    "\n",
    "ROOT = Path(\".\")\n",
    "CALIB = ROOT / \"calibration\"\n",
    "SEQ   = CALIB / \"mav0\"\n",
    "CAM0  = SEQ / \"cam0\"\n",
    "CAM1  = SEQ / \"cam1\"\n",
    "\n",
    "CSV_NAME   = \"data.csv\"             # contains '#timestamp [ns],filename'\n",
    "IMG_DIR    = \"data\"                 # images live here\n",
    "TARGET_YML = CALIB / \"checkerboard_7x6.yaml\"\n",
    "\n",
    "OUT = ROOT / \"calibration_output\"\n",
    "OUT.mkdir(parents=True, exist_ok=True)\n",
    "\n",
    "print(\"cam0:\", CAM0.resolve())\n",
    "print(\"cam1:\", CAM1.resolve())\n",
    "print(\"target:\", TARGET_YML.resolve())\n"
   ]
  },
  {
   "cell_type": "code",
   "execution_count": 7,
   "id": "6a00d179",
   "metadata": {},
   "outputs": [
    {
     "name": "stdout",
     "output_type": "stream",
     "text": [
      "Checkerboard: 6 x 7 internal corners, square 0.06 x 0.06 m\n",
      "Paired frames: 2376\n"
     ]
    },
    {
     "data": {
      "text/plain": [
       "(2376,\n",
       " [(PosixPath('calibration/mav0/cam0/data/1403708994187836928.png'),\n",
       "   PosixPath('calibration/mav0/cam1/data/1403708994187836928.png')),\n",
       "  (PosixPath('calibration/mav0/cam0/data/1403708994237837056.png'),\n",
       "   PosixPath('calibration/mav0/cam1/data/1403708994237837056.png'))])"
      ]
     },
     "execution_count": 7,
     "metadata": {},
     "output_type": "execute_result"
    }
   ],
   "source": [
    "# Load checkerboard parameters\n",
    "\n",
    "with open(TARGET_YML, \"r\") as f:\n",
    "    cfg = yaml.safe_load(f)\n",
    "\n",
    "cols = int(cfg[\"targetCols\"])              # internal corners across columns\n",
    "rows = int(cfg[\"targetRows\"])              # internal corners across rows\n",
    "sx   = float(cfg.get(\"colSpacingMeters\", 0.06))  # meters\n",
    "sy   = float(cfg.get(\"rowSpacingMeters\", 0.06))  # meters\n",
    "\n",
    "print(f\"Checkerboard: {cols} x {rows} internal corners, square {sx} x {sy} m\")\n",
    "\n",
    "# Read CSVs\n",
    "df0 = pd.read_csv(CAM0 / CSV_NAME)\n",
    "df1 = pd.read_csv(CAM1 / CSV_NAME)\n",
    "\n",
    "fn_col0 = [c for c in df0.columns if \"filename\" in c][0]\n",
    "fn_col1 = [c for c in df1.columns if \"filename\" in c][0]\n",
    "\n",
    "# Pair frames by common filenames (EuRoC-style datasets use matching names/timestamps)\n",
    "set0 = set(df0[fn_col0].astype(str))\n",
    "set1 = set(df1[fn_col1].astype(str))\n",
    "common = sorted(list(set0.intersection(set1)))\n",
    "print(f\"Paired frames: {len(common)}\")\n",
    "\n",
    "# Build absolute paths for pairs\n",
    "pairs = [(CAM0/IMG_DIR/f, CAM1/IMG_DIR/f) for f in common]\n",
    "len(pairs), pairs[:2]\n"
   ]
  },
  {
   "cell_type": "code",
   "execution_count": 8,
   "id": "8e82bc84",
   "metadata": {},
   "outputs": [
    {
     "name": "stdout",
     "output_type": "stream",
     "text": [
      "Valid paired detections: 1649\n",
      "imsize cam0: (752, 480)  | imsize cam1: (752, 480)\n"
     ]
    }
   ],
   "source": [
    "# Prepare the 3D object points for one board view (Z=0 plane)\n",
    "\n",
    "objp = np.zeros((rows*cols, 3), np.float32)\n",
    "gx, gy = np.meshgrid(np.arange(cols), np.arange(rows))\n",
    "objp[:,0] = gx.flatten() * sx\n",
    "objp[:,1] = gy.flatten() * sy\n",
    "# objp[:,2] = 0 already\n",
    "\n",
    "# Settings for detection and subpixel refinement\n",
    "criteria = (cv.TERM_CRITERIA_EPS + cv.TERM_CRITERIA_MAX_ITER, 30, 1e-3)\n",
    "flags = cv.CALIB_CB_ADAPTIVE_THRESH | cv.CALIB_CB_NORMALIZE_IMAGE | cv.CALIB_CB_FAST_CHECK\n",
    "\n",
    "# Accumulators\n",
    "objpoints  = []   # list of (N,3)\n",
    "imgpoints0 = []   # list of (N,1,2) for cam0\n",
    "imgpoints1 = []   # list of (N,1,2) for cam1\n",
    "imsize0 = None\n",
    "imsize1 = None\n",
    "\n",
    "kept = 0\n",
    "for p0, p1 in pairs:\n",
    "    img0 = cv.imread(str(p0), cv.IMREAD_GRAYSCALE)\n",
    "    img1 = cv.imread(str(p1), cv.IMREAD_GRAYSCALE)\n",
    "    if img0 is None or img1 is None:\n",
    "        continue\n",
    "\n",
    "    if imsize0 is None:\n",
    "        imsize0 = (img0.shape[1], img0.shape[0])  # (w,h)\n",
    "    if imsize1 is None:\n",
    "        imsize1 = (img1.shape[1], img1.shape[0])\n",
    "\n",
    "    ret0, corners0 = cv.findChessboardCorners(img0, (cols, rows), flags=flags)\n",
    "    ret1, corners1 = cv.findChessboardCorners(img1, (cols, rows), flags=flags)\n",
    "    if not (ret0 and ret1):\n",
    "        continue\n",
    "\n",
    "    # subpixel refinement\n",
    "    corners0 = cv.cornerSubPix(img0, corners0, (11,11), (-1,-1), criteria)\n",
    "    corners1 = cv.cornerSubPix(img1, corners1, (11,11), (-1,-1), criteria)\n",
    "\n",
    "    objpoints.append(objp.copy())\n",
    "    imgpoints0.append(corners0)\n",
    "    imgpoints1.append(corners1)\n",
    "    kept += 1\n",
    "\n",
    "print(f\"Valid paired detections: {kept}\")\n",
    "print(\"imsize cam0:\", imsize0, \" | imsize cam1:\", imsize1)\n",
    "assert kept >= 10, \"Need at least ~10 good views for a stable calibration.\"\n"
   ]
  },
  {
   "cell_type": "code",
   "execution_count": 16,
   "id": "fec6a313",
   "metadata": {},
   "outputs": [
    {
     "name": "stdout",
     "output_type": "stream",
     "text": [
      "Using 1649 views out of 1649 total\n",
      "cam0 RMS: 0.5962455234274932\n",
      "cam0 K:\n",
      " [[461.27295302   0.         361.31911058]\n",
      " [  0.         459.75826361 247.61789372]\n",
      " [  0.           0.           1.        ]]\n",
      "cam0 dist: [-3.11914860e-01  1.28378549e-01  4.36021106e-05  9.41519938e-05\n",
      " -2.79416919e-02]\n",
      "\n",
      "cam1 RMS: 0.7758022806213101\n",
      "cam1 K:\n",
      " [[459.12670346   0.         373.08564114]\n",
      " [  0.         457.74340931 253.99528538]\n",
      " [  0.           0.           1.        ]]\n",
      "cam1 dist: [-3.11642114e-01  1.31979842e-01 -2.19971616e-04  4.06962852e-04\n",
      " -3.14582706e-02]\n"
     ]
    }
   ],
   "source": [
    "# Calibrate cam0 intrinsics\n",
    "\n",
    "# how many paired views to use\n",
    "N = 1649      # try 80 first\n",
    "SEED = 40   # for reproducibility\n",
    "\n",
    "random.seed(SEED)\n",
    "idx = random.sample(range(len(objpoints)), k=min(N, len(objpoints)))\n",
    "\n",
    "obj_sub  = [objpoints[i]  for i in idx]\n",
    "img0_sub = [imgpoints0[i] for i in idx]\n",
    "img1_sub = [imgpoints1[i] for i in idx]\n",
    "\n",
    "print(f\"Using {len(obj_sub)} views out of {len(objpoints)} total\")\n",
    "\n",
    "\n",
    "# cam0 intrinsics\n",
    "rms0, K0, dist0, rvecs0, tvecs0 = cv.calibrateCamera(\n",
    "    objectPoints=obj_sub,\n",
    "    imagePoints=img0_sub,\n",
    "    imageSize=imsize0,\n",
    "    cameraMatrix=None,\n",
    "    distCoeffs=None\n",
    ")\n",
    "print(\"cam0 RMS:\", rms0)\n",
    "print(\"cam0 K:\\n\", K0)\n",
    "print(\"cam0 dist:\", dist0.ravel())\n",
    "\n",
    "# cam1 intrinsics\n",
    "rms1, K1, dist1, rvecs1, tvecs1 = cv.calibrateCamera(\n",
    "    objectPoints=obj_sub,\n",
    "    imagePoints=img1_sub,\n",
    "    imageSize=imsize1,\n",
    "    cameraMatrix=None,\n",
    "    distCoeffs=None\n",
    ")\n",
    "print(\"\\ncam1 RMS:\", rms1)\n",
    "print(\"cam1 K:\\n\", K1)\n",
    "print(\"cam1 dist:\", dist1.ravel())\n"
   ]
  },
  {
   "cell_type": "code",
   "execution_count": 19,
   "id": "c451fc06",
   "metadata": {},
   "outputs": [
    {
     "name": "stdout",
     "output_type": "stream",
     "text": [
      "Saved to: /Users/natalia/Documents/LTU_Master/Computer_vision/Lab4/calibration_output\n"
     ]
    }
   ],
   "source": [
    "# Save instrinsc parameters to disk (NPZ + YAML)\n",
    "OUT = Path(\"calibration_output\")\n",
    "OUT.mkdir(parents=True, exist_ok=True)\n",
    "\n",
    "def save_intrinsics(base, K, dist, imsize, rms, name):\n",
    "    # NPZ\n",
    "    np.savez(base.with_suffix(\".npz\"),\n",
    "             K=K, dist=dist, width=int(imsize[0]), height=int(imsize[1]),\n",
    "             rms=float(rms), camera=name)\n",
    "    # YAML\n",
    "    yml = {\n",
    "        \"camera\": name,\n",
    "        \"image_width\": int(imsize[0]),\n",
    "        \"image_height\": int(imsize[1]),\n",
    "        \"rms_reprojection_error\": float(rms),\n",
    "        \"camera_matrix\": {\"rows\": 3, \"cols\": 3, \"data\": K.tolist()},\n",
    "        \"distortion_coefficients\": {\"rows\": 1, \"cols\": len(dist.ravel()), \"data\": dist.ravel().tolist()},\n",
    "        \"model\": \"pinhole\",\n",
    "    }\n",
    "    with open(base.with_suffix(\".yaml\"), \"w\") as f:\n",
    "        yaml.safe_dump(yml, f, sort_keys=False)\n",
    "\n",
    "# Store cam0 and cam1 intrinsics\n",
    "save_intrinsics(OUT / \"cam0_intrinsics\", K0, dist0, imsize0, rms0, \"cam0\")\n",
    "save_intrinsics(OUT / \"cam1_intrinsics\", K1, dist1, imsize1, rms1, \"cam1\")\n",
    "\n",
    "print(\"Saved to:\", OUT.resolve())\n"
   ]
  },
  {
   "cell_type": "code",
   "execution_count": 21,
   "id": "046874d9",
   "metadata": {},
   "outputs": [
    {
     "name": "stdout",
     "output_type": "stream",
     "text": [
      "Corner data saved to: /Users/natalia/Documents/LTU_Master/Computer_vision/Lab4/calibration_output/corner_data.npz\n",
      "Views saved: 1649\n"
     ]
    }
   ],
   "source": [
    "# Store corner detections to disk for later use\n",
    "\n",
    "OUT = Path(\"calibration_output\")\n",
    "OUT.mkdir(parents=True, exist_ok=True)\n",
    "\n",
    "np.savez(OUT / \"corner_data.npz\",\n",
    "         objpoints=objpoints,      # list of (Ncorners,1,2) per view (for imgpoints)\n",
    "         imgpoints0=imgpoints0,\n",
    "         imgpoints1=imgpoints1,\n",
    "         imsize0=imsize0,          # (width, height)\n",
    "         imsize1=imsize1)\n",
    "\n",
    "print(\"Corner data saved to:\", (OUT / \"corner_data.npz\").resolve())\n",
    "print(\"Views saved:\", len(objpoints))\n"
   ]
  },
  {
   "cell_type": "code",
   "execution_count": 5,
   "id": "d7e26d0e",
   "metadata": {},
   "outputs": [
    {
     "name": "stdout",
     "output_type": "stream",
     "text": [
      "Stereo pairs to use: 1649\n",
      "\n",
      "Stereo calibration done in 12618.4 s  (210.31 min)\n",
      "Stereo RMS: 5.223422\n",
      "R (cam0 -> cam1):\n",
      " [[ 0.99999369  0.0027334   0.00226879]\n",
      " [-0.00276694  0.99988494  0.01491455]\n",
      " [-0.00222776 -0.01492074  0.9998862 ]]\n",
      "T (cam0 -> cam1):\n",
      " [-0.10944116  0.00071261 -0.00093779]\n",
      "Baseline |T|: 0.109447 (units = checkerboard units)\n",
      "\n",
      "Saved: stereo_extrinsics.(npz|yaml) -> /Users/natalia/Documents/LTU_Master/Computer_vision/Lab4/calibration_output\n"
     ]
    }
   ],
   "source": [
    "# Stereo extrinsics (R,T) with timing; save NPZ+YAML\n",
    "\n",
    "OUT = Path(\"calibration_output\")\n",
    "\n",
    "# Load intrinsics saved earlier\n",
    "d0 = np.load(OUT / \"cam0_intrinsics.npz\")\n",
    "d1 = np.load(OUT / \"cam1_intrinsics.npz\")\n",
    "K0, dist0 = d0[\"K\"], d0[\"dist\"]\n",
    "K1, dist1 = d1[\"K\"], d1[\"dist\"]\n",
    "imsize0 = (int(d0[\"width\"]), int(d0[\"height\"]))\n",
    "imsize1 = (int(d1[\"width\"]), int(d1[\"height\"]))\n",
    "assert imsize0 == imsize1, \"cam0/cam1 image sizes must match\"\n",
    "\n",
    "# Load detected corners saved earlier\n",
    "cd = np.load(OUT / \"corner_data.npz\", allow_pickle=True)\n",
    "objpoints  = list(cd[\"objpoints\"])\n",
    "imgpoints0 = list(cd[\"imgpoints0\"])\n",
    "imgpoints1 = list(cd[\"imgpoints1\"])\n",
    "print(f\"Stereo pairs to use: {len(objpoints)}\")\n",
    "\n",
    "# Fix intrinsics; estimate only R,T (and E,F)\n",
    "flags = cv.CALIB_FIX_INTRINSIC\n",
    "criteria = (cv.TERM_CRITERIA_EPS + cv.TERM_CRITERIA_MAX_ITER, 80, 1e-5)\n",
    "\n",
    "# Run & time\n",
    "t0 = time.perf_counter()\n",
    "rms_st, K0_, dist0_, K1_, dist1_, R, T, E, F = cv.stereoCalibrate(\n",
    "    objectPoints=objpoints,\n",
    "    imagePoints1=imgpoints0,\n",
    "    imagePoints2=imgpoints1,\n",
    "    cameraMatrix1=K0, distCoeffs1=dist0,\n",
    "    cameraMatrix2=K1, distCoeffs2=dist1,\n",
    "    imageSize=imsize0,\n",
    "    flags=flags,\n",
    "    criteria=criteria\n",
    ")\n",
    "elapsed = time.perf_counter() - t0\n",
    "\n",
    "# Report\n",
    "baseline = float(np.linalg.norm(T))\n",
    "print(f\"\\nStereo calibration done in {elapsed:.1f} s  ({elapsed/60:.2f} min)\")\n",
    "print(f\"Stereo RMS: {rms_st:.6f}\")\n",
    "print(\"R (cam0 -> cam1):\\n\", R)\n",
    "print(\"T (cam0 -> cam1):\\n\", T.ravel())\n",
    "print(f\"Baseline |T|: {baseline:.6f} (units = checkerboard units)\")\n",
    "\n",
    "# Save results\n",
    "np.savez(OUT / \"stereo_extrinsics.npz\", R=R, T=T, E=E, F=F, rms=rms_st)\n",
    "with open(OUT / \"stereo_extrinsics.yaml\", \"w\") as f:\n",
    "    yaml.safe_dump({\n",
    "        \"stereo_rms\": float(rms_st),\n",
    "        \"rotation_matrix\": R.tolist(),\n",
    "        \"translation_vector\": T.ravel().tolist(),\n",
    "        \"baseline\": baseline,\n",
    "        \"essential_matrix\": E.tolist(),\n",
    "        \"fundamental_matrix\": F.tolist(),\n",
    "        \"note\": \"R,T map 3D points from cam0 frame to cam1 frame\"\n",
    "    }, f, sort_keys=False)\n",
    "\n",
    "print(\"\\nSaved: stereo_extrinsics.(npz|yaml) ->\", OUT.resolve())\n"
   ]
  }
 ],
 "metadata": {
  "kernelspec": {
   "display_name": ".venv",
   "language": "python",
   "name": "python3"
  },
  "language_info": {
   "codemirror_mode": {
    "name": "ipython",
    "version": 3
   },
   "file_extension": ".py",
   "mimetype": "text/x-python",
   "name": "python",
   "nbconvert_exporter": "python",
   "pygments_lexer": "ipython3",
   "version": "3.13.7"
  }
 },
 "nbformat": 4,
 "nbformat_minor": 5
}
